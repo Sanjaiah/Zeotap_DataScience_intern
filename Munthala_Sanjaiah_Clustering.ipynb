# Importing required libraries
import pandas as pd
import numpy as np
from sklearn.preprocessing import StandardScaler
from sklearn.cluster import KMeans
from sklearn.decomposition import PCA
from sklearn.metrics import davies_bouldin_score, silhouette_score
import matplotlib.pyplot as plt
import seaborn as sns

# Load data
customers = pd.read_csv('Customers.csv')
transactions = pd.read_csv('Transactions.csv')

# Merge the customer and transaction datasets on 'CustomerID'
data = pd.merge(transactions, customers, on='CustomerID', how='left')

# Feature engineering
# Summarize transaction data per customer
customer_transactions = data.groupby('CustomerID').agg(
    total_spent=('TotalValue', 'sum'),
    avg_spent=('TotalValue', 'mean'),
    total_quantity=('Quantity', 'sum'),
    avg_quantity=('Quantity', 'mean')
).reset_index()

# Add customer profile features
customer_profile = customers[['CustomerID', 'Region']]

# One-hot encoding for 'Region'
customer_profile = pd.get_dummies(customer_profile, columns=['Region'], drop_first=True)

# Merge the transaction data and customer profile
customer_data = pd.merge(customer_transactions, customer_profile, on='CustomerID')

# Standardize the data for clustering
scaler = StandardScaler()
scaled_data = scaler.fit_transform(customer_data.drop('CustomerID', axis=1))

# Clustering using KMeans
kmeans = KMeans(n_clusters=5, random_state=42)  # You can choose any number of clusters between 2-10
customer_data['Cluster'] = kmeans.fit_predict(scaled_data)

# Calculate clustering metrics
db_index = davies_bouldin_score(scaled_data, customer_data['Cluster'])
silhouette = silhouette_score(scaled_data, customer_data['Cluster'])

# Visualization of clusters using PCA
pca = PCA(n_components=2)
pca_components = pca.fit_transform(scaled_data)

# Plotting the clusters
plt.figure(figsize=(8, 6))
sns.scatterplot(x=pca_components[:, 0], y=pca_components[:, 1], hue=customer_data['Cluster'], palette='viridis', s=100, alpha=0.7)
plt.title('Customer Segmentation (KMeans Clustering)')
plt.xlabel('PCA Component 1')
plt.ylabel('PCA Component 2')
plt.legend(title='Cluster', loc='upper right')
plt.show()

# Reporting the results
print(f"Number of clusters: 5")
print(f"DB Index: {db_index}")
print(f"Silhouette Score: {silhouette}")

# Save the cluster assignments for each customer
customer_data[['CustomerID', 'Cluster']].to_csv('Customer_Segments.csv', index=False)
