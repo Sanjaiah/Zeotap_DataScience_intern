# Importing Libraries
import pandas as pd
import matplotlib.pyplot as plt
import seaborn as sns

# Load datasets
customers = pd.read_csv('Customers.csv')
products = pd.read_csv('Products.csv')
transactions = pd.read_csv('Transactions.csv')

# Display first few rows of each dataset
print("Customers Dataset:")
print(customers.head())

print("\nProducts Dataset:")
print(products.head())

print("\nTransactions Dataset:")
print(transactions.head())

# Merge datasets for combined analysis
merged_data = transactions.merge(customers, on='CustomerID').merge(products, on='ProductID')

# Check for missing values
print("\nMissing Values:")
print(merged_data.isnull().sum())

# Drop rows with missing values (if any)
merged_data.dropna(inplace=True)

# Top customers by spending
top_customers = merged_data.groupby('CustomerName')['TotalValue'].sum().sort_values(ascending=False).head(10)
print("\nTop Customers by Spending:")
print(top_customers)

# Best-selling products
top_products = merged_data.groupby('ProductName')['Quantity'].sum().sort_values(ascending=False).head(10)
print("\nBest-Selling Products:")
print(top_products)

# Sales by category
sales_by_category = merged_data.groupby('Category')['TotalValue'].sum().sort_values(ascending=False)
print("\nSales by Category:")
print(sales_by_category)

# Monthly sales trend
merged_data['TransactionDate'] = pd.to_datetime(merged_data['TransactionDate'])
monthly_sales = merged_data.groupby(merged_data['TransactionDate'].dt.to_period('M'))['TotalValue'].sum()

# Visualize Monthly Sales Trend
plt.figure(figsize=(10, 6))
monthly_sales.plot(kind='line', title='Monthly Sales Trend', xlabel='Month', ylabel='Total Sales (USD)')
plt.show()

# Visualize Top Customers
plt.figure(figsize=(10, 6))
sns.barplot(x=top_customers.values, y=top_customers.index, palette="viridis")
plt.title('Top Customers by Spending')
plt.xlabel('Total Spending (USD)')
plt.ylabel('Customer Name')
plt.show()

# Visualize Best-Selling Products
plt.figure(figsize=(10, 6))
sns.barplot(x=top_products.values, y=top_products.index, palette="mako")
plt.title('Best-Selling Products by Quantity')
plt.xlabel('Total Quantity Sold')
plt.ylabel('Product Name')
plt.show()

# Visualize Sales by Category
plt.figure(figsize=(10, 6))
sales_by_category.plot(kind='bar', color='skyblue')
plt.title('Sales by Product Category')
plt.xlabel('Category')
plt.ylabel('Total Sales (USD)')
plt.xticks(rotation=45)
plt.show()
