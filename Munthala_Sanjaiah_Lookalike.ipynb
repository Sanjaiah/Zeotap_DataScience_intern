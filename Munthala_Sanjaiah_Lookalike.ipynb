import pandas as pd
from sklearn.metrics.pairwise import cosine_similarity
from sklearn.preprocessing import StandardScaler

# Load the datasets
customers = pd.read_csv('Customers.csv')
products = pd.read_csv('Products.csv')
transactions = pd.read_csv('Transactions.csv')

# Merge transactions with customers and products to create customer profiles
customer_transactions = pd.merge(transactions, customers, on='CustomerID')
customer_transactions = pd.merge(customer_transactions, products, on='ProductID')

# Data Processing and Feature Engineering

# 1. Total spend per customer
customer_spend = customer_transactions.groupby('CustomerID')['TotalValue'].sum().reset_index()
customer_spend.columns = ['CustomerID', 'TotalSpend']

# 2. Purchase frequency
customer_frequency = customer_transactions.groupby('CustomerID')['TransactionID'].count().reset_index()
customer_frequency.columns = ['CustomerID', 'PurchaseFrequency']

# 3. Most frequent category purchased
category_freq = customer_transactions.groupby(['CustomerID', 'Category']).size().reset_index(name='CategoryFrequency')
most_frequent_category = category_freq.loc[category_freq.groupby('CustomerID')['CategoryFrequency'].idxmax()]

# Merge all features into one dataframe
customer_features = pd.merge(customer_spend, customer_frequency, on='CustomerID')
customer_features = pd.merge(customer_features, most_frequent_category[['CustomerID', 'Category']], on='CustomerID')

# Normalizing the features for similarity calculation
scaler = StandardScaler()
features = customer_features[['TotalSpend', 'PurchaseFrequency']]
features_scaled = scaler.fit_transform(features)

# Compute the cosine similarity matrix
similarity_matrix = cosine_similarity(features_scaled)

# Convert the similarity matrix to a DataFrame for easier interpretation
similarity_df = pd.DataFrame(similarity_matrix, index=customer_features['CustomerID'], columns=customer_features['CustomerID'])

# Create a dictionary to store recommendations
lookalike_dict = {}

# For each customer (C0001 to C0020), find top 3 similar customers
for customer_id in customer_features['CustomerID'].head(20):
    similar_customers = similarity_df[customer_id].sort_values(ascending=False).iloc[1:4]  # Skip the customer itself
    lookalike_dict[customer_id] = list(zip(similar_customers.index, similar_customers.values))

# Save the lookalike data into a CSV
lookalike_df = pd.DataFrame(list(lookalike_dict.items()), columns=['CustomerID', 'SimilarCustomers'])
lookalike_df.to_csv('Lookalike.csv', index=False)

# Display the first few rows of the generated Lookalike.csv for confirmation
print(lookalike_df.head())
